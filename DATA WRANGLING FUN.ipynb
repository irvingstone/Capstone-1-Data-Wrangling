{
 "cells": [
  {
   "cell_type": "code",
   "execution_count": 2,
   "metadata": {},
   "outputs": [],
   "source": [
    "import pandas as pd\n",
    "import numpy as np\n",
    "\n",
    "path = 'PUBLICUSE_CLAIM_MC_2018.txt'\n",
    "data = pd.read_csv(path, sep = '|', header = 0)\n",
    "\n",
    "#print(data['FROM_YEAR'])\n",
    "#print (data['COVERAGE_CLASS'])\n",
    "\n"
   ]
  },
  {
   "cell_type": "markdown",
   "metadata": {},
   "source": [
    "# Printing The Column Names and Head"
   ]
  },
  {
   "cell_type": "code",
   "execution_count": 3,
   "metadata": {},
   "outputs": [
    {
     "name": "stdout",
     "output_type": "stream",
     "text": [
      "  COVERAGE_CLASS  FROM_YEAR  ADM_YR  DIS_YR  CLAIM_ID_KEY  CS_CLAIM_ID_KEY  \\\n",
      "0            MED       2018      -1      -1      10239742         10239742   \n",
      "1            MED       2018      -1      -1      10239742         10239742   \n",
      "2            MED       2018      -1      -1      10239742         10239742   \n",
      "3            MED       2018      -1      -1      10239742         10239742   \n",
      "4            MED       2018      -1      -1      10240098         10240098   \n",
      "\n",
      "   SERVICES_KEY  SV_LINE FORM_TYPE SV_STAT         ...          \\\n",
      "0       5778269        2         U       P         ...           \n",
      "1      11422953        4         U       P         ...           \n",
      "2       5778249        6         U       P         ...           \n",
      "3      11422956        7         U       P         ...           \n",
      "4       7576382        4         U       D         ...           \n",
      "\n",
      "   MR_LINE_CASE_KEY CASES UTILS  NDC  CLAIM_STATUS_ORIG ECODE_ORIG ADMIT_HOUR  \\\n",
      "0               543   NaN   NaN  NaN                  1        NaN       -1.0   \n",
      "1               543   NaN   NaN  NaN                  1        NaN       -1.0   \n",
      "2               543   NaN   NaN  NaN                  1        NaN       -1.0   \n",
      "3               543   NaN   NaN  NaN                  1        NaN       -1.0   \n",
      "4               546   NaN   1.0  NaN                  4        NaN       -1.0   \n",
      "\n",
      "  DISCHARGE_HOUR CLAIM_ADJUSTMENT_LOGIC IMPUTED_SERVICE_KEY  \n",
      "0           -1.0                   CAL4        2018_2045311  \n",
      "1           -1.0                   CAL4        2018_2045311  \n",
      "2           -1.0                   CAL4        2018_2045311  \n",
      "3           -1.0                   CAL4        2018_2045311  \n",
      "4           -1.0                   CAL4        2018_2024010  \n",
      "\n",
      "[5 rows x 63 columns]\n",
      "['COVERAGE_CLASS' 'FROM_YEAR' 'ADM_YR' 'DIS_YR' 'CLAIM_ID_KEY'\n",
      " 'CS_CLAIM_ID_KEY' 'SERVICES_KEY' 'SV_LINE' 'FORM_TYPE' 'SV_STAT'\n",
      " 'DIS_STAT' 'POS' 'AGE' 'SEX' 'MEMBER_COUNTY' 'MEMBER_STATE'\n",
      " 'PRODUCT_TYPE' 'LOB' 'INSURANCE_TYPE' 'PROC_CODE' 'CPT_MOD1' 'CPT_MOD2'\n",
      " 'REV_CODE' 'UB_BILL_TYPE' 'ADM_SRC' 'ADM_TYPE' 'CLIENT_LOS'\n",
      " 'ICD_10_OR_HIGHER' 'ICD_PROC_01_PRI' 'ICD_DIAG_01_PRIMARY'\n",
      " 'ICD_DIAG_ADMIT' 'ICD_DIAG_02' 'ICD_DIAG_03' 'ICD_DIAG_04' 'ICD_DIAG_05'\n",
      " 'ICD_DIAG_06' 'ICD_DIAG_07' 'ICD_DIAG_08' 'ICD_DIAG_09' 'ICD_DIAG_10'\n",
      " 'ICD_DIAG_11' 'ICD_DIAG_12' 'ICD_DIAG_13' 'SERV_PROV_CW_KEY'\n",
      " 'BILL_PROV_CW_KEY' 'QTY' 'AMT_BILLED' 'AMT_PAID' 'AMT_DEDUCT' 'AMT_COINS'\n",
      " 'AMT_COPAY' 'AMT_PREPAID' 'INPATIENT_FLAG' 'MR_LINE_CASE_KEY' 'CASES'\n",
      " 'UTILS' 'NDC' 'CLAIM_STATUS_ORIG' 'ECODE_ORIG' 'ADMIT_HOUR'\n",
      " 'DISCHARGE_HOUR' 'CLAIM_ADJUSTMENT_LOGIC' 'IMPUTED_SERVICE_KEY']\n"
     ]
    }
   ],
   "source": [
    "print(data.head())\n",
    "print(data.columns.values)"
   ]
  },
  {
   "cell_type": "code",
   "execution_count": 4,
   "metadata": {},
   "outputs": [
    {
     "name": "stdout",
     "output_type": "stream",
     "text": [
      "Top 10 CBT Codes by Frequency: \n",
      "\n",
      "99213    684792\n",
      "99214    630164\n",
      "97110    407111\n",
      "36415    393425\n",
      "97140    279690\n",
      "80053    220623\n",
      "85025    213677\n",
      "98941    209352\n",
      "G0463    172619\n",
      "90834    167529\n",
      "80061    143244\n",
      "88305    116886\n",
      "90837    115223\n",
      "99203    106954\n",
      "97112    106687\n",
      "84443    102568\n",
      "90471    101702\n",
      "97530    100081\n",
      "71046     92637\n",
      "99396     87766\n",
      "83036     86500\n",
      "99212     86050\n",
      "77067     81167\n",
      "99232     77523\n",
      "92014     77375\n",
      "Name: PROC_CODE, dtype: int64\n"
     ]
    }
   ],
   "source": [
    "print('Top 10 CBT Codes by Frequency: ')\n",
    "print('')\n",
    "print(data['PROC_CODE'].value_counts().head(25)) #LOOKS AT MOST COMMON CBT CODES"
   ]
  },
  {
   "cell_type": "code",
   "execution_count": 5,
   "metadata": {},
   "outputs": [],
   "source": [
    "import matplotlib.pyplot as plt \n",
    "import seaborn as sns"
   ]
  },
  {
   "cell_type": "markdown",
   "metadata": {},
   "source": [
    "# Summarizing some of the MRI CPT Codes"
   ]
  },
  {
   "cell_type": "code",
   "execution_count": 6,
   "metadata": {},
   "outputs": [
    {
     "name": "stdout",
     "output_type": "stream",
     "text": [
      "77067\n",
      "Number of rows: 81167\n",
      "Min Paid Amount: -941.81\n",
      "Max Paid Amount: 4363.65\n",
      "Mean Paid Amount: 215.7361863811608\n",
      "Range: 5305.459999999999\n",
      "Count by County: \n",
      "\n",
      "11     21115\n",
      "15     17793\n",
      "999     7834\n",
      "13      7506\n",
      "17      5591\n",
      "9       4643\n",
      "5       4459\n",
      "1       4246\n",
      "3       3420\n",
      "19      2460\n",
      "7       2100\n",
      "Name: MEMBER_COUNTY, dtype: int64\n",
      "\n",
      "\n"
     ]
    }
   ],
   "source": [
    "#print(data.columns.values)\n",
    "#print(sum(data['PROC_CODE']=='73510'))\n",
    "\n",
    "MRI_CODES=['77067']\n",
    "for code in MRI_CODES:\n",
    "    MRI_DATA=(data[data['PROC_CODE'] == str(code)])\n",
    "    print(str(code))\n",
    "    print('Number of rows: ' + str(len(MRI_DATA['SEX'])))\n",
    "    print('Min Paid Amount: ' + str(min(MRI_DATA['AMT_PAID'])))\n",
    "    print('Max Paid Amount: ' + str(max(MRI_DATA['AMT_PAID'])))\n",
    "    print('Mean Paid Amount: ' + str(np.mean(MRI_DATA['AMT_PAID'])))\n",
    "    print('Range: ' + str(max(MRI_DATA['AMT_PAID'])-min(MRI_DATA['AMT_PAID'])))\n",
    "    print('Count by County: \\n\\n' + str(MRI_DATA['MEMBER_COUNTY'].value_counts()))\n",
    "    print('')\n",
    "    print('')"
   ]
  },
  {
   "cell_type": "markdown",
   "metadata": {},
   "source": [
    "# POPULTATION BY COUNTY IN NH\n",
    "Rank\tCounty\tPopulation\n",
    "1\tHillsborough County\t406,371\n",
    "2\tRockingham County\t302,479\n",
    "3\tMerrimack County\t147,958\n",
    "4\tStrafford County\t126,552\n",
    "5\tGrafton County\t89,280\n",
    "6\tCheshire County\t76,109\n",
    "7\tBelknap County\t60,383\n",
    "8\tCarroll County\t47,524\n",
    "9\tSullivan County\t43,073\n",
    "10\tCoos County\t32,119\n",
    "\n",
    "1...Belknap\n",
    "3...Carroll\n",
    "5...Cheshire\n",
    "7 ...Coos\n",
    "9...Grafton\n",
    "11...Hillsborough\n",
    "13...Merrimack\n",
    "15...Rockingham\n",
    "17...Strafford\n",
    "19...Sullivan\n",
    "999...Other (not New Hampshire)"
   ]
  },
  {
   "cell_type": "code",
   "execution_count": null,
   "metadata": {},
   "outputs": [],
   "source": [
    "#Relevant_Columns=(MRI_JOINT[['COVERAGE_CLASS','FROM_YEAR' ,'SERVICES_KEY','DIS_STAT', 'POS' ,'AGE' ,'SEX' ,'MEMBER_COUNTY', 'MEMBER_STATE','PRODUCT_TYPE', 'LOB' ,'INSURANCE_TYPE' ,'PROC_CODE' ,'CPT_MOD1','CPT_MOD2','REV_CODE','UB_BILL_TYPE', 'ICD_DIAG_01_PRIMARY','ICD_DIAG_02','SERV_PROV_CW_KEY','BILL_PROV_CW_KEY' ,'QTY' ,'AMT_BILLED', 'AMT_PAID','AMT_DEDUCT','AMT_COINS','AMT_COPAY' ,'AMT_PREPAID', 'INPATIENT_FLAG', 'MR_LINE_CASE_KEY' ,'CLAIM_STATUS_ORIG' ,'CLAIM_ADJUSTMENT_LOGIC' ,'IMPUTED_SERVICE_KEY'\n",
    "#]])\n"
   ]
  },
  {
   "cell_type": "code",
   "execution_count": 7,
   "metadata": {},
   "outputs": [
    {
     "data": {
      "image/png": "[encoded data removed]",
      "text/plain": [
       "<Figure size 432x288 with 1 Axes>"
      ]
     },
     "metadata": {
      "needs_background": "light"
     },
     "output_type": "display_data"
    }
   ],
   "source": [
    "MRI_DATAX=(data[data['PROC_CODE'] == '77067'])\n",
    "plt.hist(MRI_DATAX['AMT_PAID'], bins=20)\n",
    "plt.show()"
   ]
  },
  {
   "cell_type": "code",
   "execution_count": 67,
   "metadata": {},
   "outputs": [
    {
     "name": "stdout",
     "output_type": "stream",
     "text": [
      "75882\n"
     ]
    },
    {
     "data": {
      "image/png": "[encoded data removed]",
      "text/plain": [
       "<Figure size 432x288 with 1 Axes>"
      ]
     },
     "metadata": {
      "needs_background": "light"
     },
     "output_type": "display_data"
    },
    {
     "name": "stdout",
     "output_type": "stream",
     "text": [
      "231.95556877781834\n"
     ]
    }
   ],
   "source": [
    "Data_Subset=(MRI_DATAX[['SERVICES_KEY','AGE' ,'SEX' ,'MEMBER_COUNTY', 'MEMBER_STATE','PRODUCT_TYPE', 'LOB' ,'INSURANCE_TYPE' ,'PROC_CODE','UB_BILL_TYPE', 'ICD_DIAG_01_PRIMARY','ICD_DIAG_02','SERV_PROV_CW_KEY','BILL_PROV_CW_KEY' ,'QTY' ,'AMT_BILLED', 'AMT_PAID'\n",
    "]])\n",
    "Sorted_Data=Data_Subset.sort_values('AMT_PAID')\n",
    "#print(Sorted_Data[['PROC_CODE','AMT_PAID','MEMBER_COUNTY', 'SERV_PROV_CW_KEY']].tail(25))\n",
    "g=(Sorted_Data[(Sorted_Data['AMT_PAID']>1)])\n",
    "print(len(g['SEX']))\n",
    "plt.hist(g['AMT_PAID'], bins=500)\n",
    "plt.axis([0,1000,0,10000])\n",
    "plt.show()\n",
    "print(np.mean(g['AMT_PAID']))\n"
   ]
  },
  {
   "cell_type": "code",
   "execution_count": 29,
   "metadata": {},
   "outputs": [
    {
     "ename": "ParserError",
     "evalue": "Error tokenizing data. C error: Expected 2 fields in line 34, saw 3\n",
     "output_type": "error",
     "traceback": [
      "\u001b[0;31m---------------------------------------------------------------------------\u001b[0m",
      "\u001b[0;31mParserError\u001b[0m                               Traceback (most recent call last)",
      "\u001b[0;32m<ipython-input-29-df38249f82b3>\u001b[0m in \u001b[0;36m<module>\u001b[0;34m\u001b[0m\n\u001b[1;32m      1\u001b[0m \u001b[0;32mimport\u001b[0m \u001b[0mpandas\u001b[0m \u001b[0;32mas\u001b[0m \u001b[0mpd\u001b[0m\u001b[0;34m\u001b[0m\u001b[0;34m\u001b[0m\u001b[0m\n\u001b[1;32m      2\u001b[0m \u001b[0;34m\u001b[0m\u001b[0m\n\u001b[0;32m----> 3\u001b[0;31m \u001b[0mcpt_codes\u001b[0m \u001b[0;34m=\u001b[0m \u001b[0mpd\u001b[0m\u001b[0;34m.\u001b[0m\u001b[0mread_csv\u001b[0m\u001b[0;34m(\u001b[0m\u001b[0;34m'REF_CPT.txt'\u001b[0m\u001b[0;34m)\u001b[0m\u001b[0;34m\u001b[0m\u001b[0;34m\u001b[0m\u001b[0m\n\u001b[0m",
      "\u001b[0;32m/anaconda3/lib/python3.7/site-packages/pandas/io/parsers.py\u001b[0m in \u001b[0;36mparser_f\u001b[0;34m(filepath_or_buffer, sep, delimiter, header, names, index_col, usecols, squeeze, prefix, mangle_dupe_cols, dtype, engine, converters, true_values, false_values, skipinitialspace, skiprows, nrows, na_values, keep_default_na, na_filter, verbose, skip_blank_lines, parse_dates, infer_datetime_format, keep_date_col, date_parser, dayfirst, iterator, chunksize, compression, thousands, decimal, lineterminator, quotechar, quoting, escapechar, comment, encoding, dialect, tupleize_cols, error_bad_lines, warn_bad_lines, skipfooter, doublequote, delim_whitespace, low_memory, memory_map, float_precision)\u001b[0m\n\u001b[1;32m    676\u001b[0m                     skip_blank_lines=skip_blank_lines)\n\u001b[1;32m    677\u001b[0m \u001b[0;34m\u001b[0m\u001b[0m\n\u001b[0;32m--> 678\u001b[0;31m         \u001b[0;32mreturn\u001b[0m \u001b[0m_read\u001b[0m\u001b[0;34m(\u001b[0m\u001b[0mfilepath_or_buffer\u001b[0m\u001b[0;34m,\u001b[0m \u001b[0mkwds\u001b[0m\u001b[0;34m)\u001b[0m\u001b[0;34m\u001b[0m\u001b[0;34m\u001b[0m\u001b[0m\n\u001b[0m\u001b[1;32m    679\u001b[0m \u001b[0;34m\u001b[0m\u001b[0m\n\u001b[1;32m    680\u001b[0m     \u001b[0mparser_f\u001b[0m\u001b[0;34m.\u001b[0m\u001b[0m__name__\u001b[0m \u001b[0;34m=\u001b[0m \u001b[0mname\u001b[0m\u001b[0;34m\u001b[0m\u001b[0;34m\u001b[0m\u001b[0m\n",
      "\u001b[0;32m/anaconda3/lib/python3.7/site-packages/pandas/io/parsers.py\u001b[0m in \u001b[0;36m_read\u001b[0;34m(filepath_or_buffer, kwds)\u001b[0m\n\u001b[1;32m    444\u001b[0m \u001b[0;34m\u001b[0m\u001b[0m\n\u001b[1;32m    445\u001b[0m     \u001b[0;32mtry\u001b[0m\u001b[0;34m:\u001b[0m\u001b[0;34m\u001b[0m\u001b[0;34m\u001b[0m\u001b[0m\n\u001b[0;32m--> 446\u001b[0;31m         \u001b[0mdata\u001b[0m \u001b[0;34m=\u001b[0m \u001b[0mparser\u001b[0m\u001b[0;34m.\u001b[0m\u001b[0mread\u001b[0m\u001b[0;34m(\u001b[0m\u001b[0mnrows\u001b[0m\u001b[0;34m)\u001b[0m\u001b[0;34m\u001b[0m\u001b[0;34m\u001b[0m\u001b[0m\n\u001b[0m\u001b[1;32m    447\u001b[0m     \u001b[0;32mfinally\u001b[0m\u001b[0;34m:\u001b[0m\u001b[0;34m\u001b[0m\u001b[0;34m\u001b[0m\u001b[0m\n\u001b[1;32m    448\u001b[0m         \u001b[0mparser\u001b[0m\u001b[0;34m.\u001b[0m\u001b[0mclose\u001b[0m\u001b[0;34m(\u001b[0m\u001b[0;34m)\u001b[0m\u001b[0;34m\u001b[0m\u001b[0;34m\u001b[0m\u001b[0m\n",
      "\u001b[0;32m/anaconda3/lib/python3.7/site-packages/pandas/io/parsers.py\u001b[0m in \u001b[0;36mread\u001b[0;34m(self, nrows)\u001b[0m\n\u001b[1;32m   1034\u001b[0m                 \u001b[0;32mraise\u001b[0m \u001b[0mValueError\u001b[0m\u001b[0;34m(\u001b[0m\u001b[0;34m'skipfooter not supported for iteration'\u001b[0m\u001b[0;34m)\u001b[0m\u001b[0;34m\u001b[0m\u001b[0;34m\u001b[0m\u001b[0m\n\u001b[1;32m   1035\u001b[0m \u001b[0;34m\u001b[0m\u001b[0m\n\u001b[0;32m-> 1036\u001b[0;31m         \u001b[0mret\u001b[0m \u001b[0;34m=\u001b[0m \u001b[0mself\u001b[0m\u001b[0;34m.\u001b[0m\u001b[0m_engine\u001b[0m\u001b[0;34m.\u001b[0m\u001b[0mread\u001b[0m\u001b[0;34m(\u001b[0m\u001b[0mnrows\u001b[0m\u001b[0;34m)\u001b[0m\u001b[0;34m\u001b[0m\u001b[0;34m\u001b[0m\u001b[0m\n\u001b[0m\u001b[1;32m   1037\u001b[0m \u001b[0;34m\u001b[0m\u001b[0m\n\u001b[1;32m   1038\u001b[0m         \u001b[0;31m# May alter columns / col_dict\u001b[0m\u001b[0;34m\u001b[0m\u001b[0;34m\u001b[0m\u001b[0;34m\u001b[0m\u001b[0m\n",
      "\u001b[0;32m/anaconda3/lib/python3.7/site-packages/pandas/io/parsers.py\u001b[0m in \u001b[0;36mread\u001b[0;34m(self, nrows)\u001b[0m\n\u001b[1;32m   1846\u001b[0m     \u001b[0;32mdef\u001b[0m \u001b[0mread\u001b[0m\u001b[0;34m(\u001b[0m\u001b[0mself\u001b[0m\u001b[0;34m,\u001b[0m \u001b[0mnrows\u001b[0m\u001b[0;34m=\u001b[0m\u001b[0;32mNone\u001b[0m\u001b[0;34m)\u001b[0m\u001b[0;34m:\u001b[0m\u001b[0;34m\u001b[0m\u001b[0;34m\u001b[0m\u001b[0m\n\u001b[1;32m   1847\u001b[0m         \u001b[0;32mtry\u001b[0m\u001b[0;34m:\u001b[0m\u001b[0;34m\u001b[0m\u001b[0;34m\u001b[0m\u001b[0m\n\u001b[0;32m-> 1848\u001b[0;31m             \u001b[0mdata\u001b[0m \u001b[0;34m=\u001b[0m \u001b[0mself\u001b[0m\u001b[0;34m.\u001b[0m\u001b[0m_reader\u001b[0m\u001b[0;34m.\u001b[0m\u001b[0mread\u001b[0m\u001b[0;34m(\u001b[0m\u001b[0mnrows\u001b[0m\u001b[0;34m)\u001b[0m\u001b[0;34m\u001b[0m\u001b[0;34m\u001b[0m\u001b[0m\n\u001b[0m\u001b[1;32m   1849\u001b[0m         \u001b[0;32mexcept\u001b[0m \u001b[0mStopIteration\u001b[0m\u001b[0;34m:\u001b[0m\u001b[0;34m\u001b[0m\u001b[0;34m\u001b[0m\u001b[0m\n\u001b[1;32m   1850\u001b[0m             \u001b[0;32mif\u001b[0m \u001b[0mself\u001b[0m\u001b[0;34m.\u001b[0m\u001b[0m_first_chunk\u001b[0m\u001b[0;34m:\u001b[0m\u001b[0;34m\u001b[0m\u001b[0;34m\u001b[0m\u001b[0m\n",
      "\u001b[0;32mpandas/_libs/parsers.pyx\u001b[0m in \u001b[0;36mpandas._libs.parsers.TextReader.read\u001b[0;34m()\u001b[0m\n",
      "\u001b[0;32mpandas/_libs/parsers.pyx\u001b[0m in \u001b[0;36mpandas._libs.parsers.TextReader._read_low_memory\u001b[0;34m()\u001b[0m\n",
      "\u001b[0;32mpandas/_libs/parsers.pyx\u001b[0m in \u001b[0;36mpandas._libs.parsers.TextReader._read_rows\u001b[0;34m()\u001b[0m\n",
      "\u001b[0;32mpandas/_libs/parsers.pyx\u001b[0m in \u001b[0;36mpandas._libs.parsers.TextReader._tokenize_rows\u001b[0;34m()\u001b[0m\n",
      "\u001b[0;32mpandas/_libs/parsers.pyx\u001b[0m in \u001b[0;36mpandas._libs.parsers.raise_parser_error\u001b[0;34m()\u001b[0m\n",
      "\u001b[0;31mParserError\u001b[0m: Error tokenizing data. C error: Expected 2 fields in line 34, saw 3\n"
     ]
    }
   ],
   "source": [
    "import pandas as pd\n",
    "\n",
    "cpt_codes = pd.read_csv('REF_CPT.txt')"
   ]
  },
  {
   "cell_type": "code",
   "execution_count": 26,
   "metadata": {},
   "outputs": [
    {
     "name": "stdout",
     "output_type": "stream",
     "text": [
      "<_io.TextIOWrapper name='REF_CPT.txt' mode='r' encoding='UTF-8'>\n"
     ]
    }
   ],
   "source": [
    "print(cpt_codes)"
   ]
  },
  {
   "cell_type": "code",
   "execution_count": null,
   "metadata": {},
   "outputs": [],
   "source": []
  },
  {
   "cell_type": "code",
   "execution_count": null,
   "metadata": {},
   "outputs": [],
   "source": []
  },
  {
   "cell_type": "code",
   "execution_count": null,
   "metadata": {},
   "outputs": [],
   "source": []
  },
  {
   "cell_type": "code",
   "execution_count": null,
   "metadata": {},
   "outputs": [],
   "source": []
  },
  {
   "cell_type": "code",
   "execution_count": null,
   "metadata": {},
   "outputs": [],
   "source": []
  },
  {
   "cell_type": "code",
   "execution_count": null,
   "metadata": {},
   "outputs": [],
   "source": []
  }
 ],
 "metadata": {
  "kernelspec": {
   "display_name": "Python 3",
   "language": "python",
   "name": "python3"
  },
  "language_info": {
   "codemirror_mode": {
    "name": "ipython",
    "version": 3
   },
   "file_extension": ".py",
   "mimetype": "text/x-python",
   "name": "python",
   "nbconvert_exporter": "python",
   "pygments_lexer": "ipython3",
   "version": "3.7.1"
  }
 },
 "nbformat": 4,
 "nbformat_minor": 2
}
