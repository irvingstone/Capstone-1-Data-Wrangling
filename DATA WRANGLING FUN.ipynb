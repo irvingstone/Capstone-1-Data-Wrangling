{
 "cells": [
  {
   "cell_type": "code",
   "execution_count": 2,
   "metadata": {},
   "outputs": [],
   "source": [
    "import pandas as pd\n",
    "import numpy as np\n",
    "\n",
    "path = 'PUBLICUSE_CLAIM_MC_2018.txt'\n",
    "data = pd.read_csv(path, sep = '|', header = 0)\n",
    "\n",
    "#print(data['FROM_YEAR'])\n",
    "#print (data['COVERAGE_CLASS'])\n",
    "\n"
   ]
  },
  {
   "cell_type": "markdown",
   "metadata": {},
   "source": [
    "# Printing The Column Names and Head"
   ]
  },
  {
   "cell_type": "code",
   "execution_count": 13,
   "metadata": {},
   "outputs": [
    {
     "name": "stdout",
     "output_type": "stream",
     "text": [
      "  COVERAGE_CLASS  FROM_YEAR  ADM_YR  DIS_YR  CLAIM_ID_KEY  CS_CLAIM_ID_KEY  \\\n",
      "0            MED       2018      -1      -1      10239742         10239742   \n",
      "1            MED       2018      -1      -1      10239742         10239742   \n",
      "2            MED       2018      -1      -1      10239742         10239742   \n",
      "3            MED       2018      -1      -1      10239742         10239742   \n",
      "4            MED       2018      -1      -1      10240098         10240098   \n",
      "\n",
      "   SERVICES_KEY  SV_LINE FORM_TYPE SV_STAT         ...          \\\n",
      "0       5778269        2         U       P         ...           \n",
      "1      11422953        4         U       P         ...           \n",
      "2       5778249        6         U       P         ...           \n",
      "3      11422956        7         U       P         ...           \n",
      "4       7576382        4         U       D         ...           \n",
      "\n",
      "   MR_LINE_CASE_KEY CASES UTILS  NDC  CLAIM_STATUS_ORIG ECODE_ORIG ADMIT_HOUR  \\\n",
      "0               543   NaN   NaN  NaN                  1        NaN       -1.0   \n",
      "1               543   NaN   NaN  NaN                  1        NaN       -1.0   \n",
      "2               543   NaN   NaN  NaN                  1        NaN       -1.0   \n",
      "3               543   NaN   NaN  NaN                  1        NaN       -1.0   \n",
      "4               546   NaN   1.0  NaN                  4        NaN       -1.0   \n",
      "\n",
      "  DISCHARGE_HOUR CLAIM_ADJUSTMENT_LOGIC IMPUTED_SERVICE_KEY  \n",
      "0           -1.0                   CAL4        2018_2045311  \n",
      "1           -1.0                   CAL4        2018_2045311  \n",
      "2           -1.0                   CAL4        2018_2045311  \n",
      "3           -1.0                   CAL4        2018_2045311  \n",
      "4           -1.0                   CAL4        2018_2024010  \n",
      "\n",
      "[5 rows x 63 columns]\n",
      "['COVERAGE_CLASS' 'FROM_YEAR' 'ADM_YR' 'DIS_YR' 'CLAIM_ID_KEY'\n",
      " 'CS_CLAIM_ID_KEY' 'SERVICES_KEY' 'SV_LINE' 'FORM_TYPE' 'SV_STAT'\n",
      " 'DIS_STAT' 'POS' 'AGE' 'SEX' 'MEMBER_COUNTY' 'MEMBER_STATE'\n",
      " 'PRODUCT_TYPE' 'LOB' 'INSURANCE_TYPE' 'PROC_CODE' 'CPT_MOD1' 'CPT_MOD2'\n",
      " 'REV_CODE' 'UB_BILL_TYPE' 'ADM_SRC' 'ADM_TYPE' 'CLIENT_LOS'\n",
      " 'ICD_10_OR_HIGHER' 'ICD_PROC_01_PRI' 'ICD_DIAG_01_PRIMARY'\n",
      " 'ICD_DIAG_ADMIT' 'ICD_DIAG_02' 'ICD_DIAG_03' 'ICD_DIAG_04' 'ICD_DIAG_05'\n",
      " 'ICD_DIAG_06' 'ICD_DIAG_07' 'ICD_DIAG_08' 'ICD_DIAG_09' 'ICD_DIAG_10'\n",
      " 'ICD_DIAG_11' 'ICD_DIAG_12' 'ICD_DIAG_13' 'SERV_PROV_CW_KEY'\n",
      " 'BILL_PROV_CW_KEY' 'QTY' 'AMT_BILLED' 'AMT_PAID' 'AMT_DEDUCT' 'AMT_COINS'\n",
      " 'AMT_COPAY' 'AMT_PREPAID' 'INPATIENT_FLAG' 'MR_LINE_CASE_KEY' 'CASES'\n",
      " 'UTILS' 'NDC' 'CLAIM_STATUS_ORIG' 'ECODE_ORIG' 'ADMIT_HOUR'\n",
      " 'DISCHARGE_HOUR' 'CLAIM_ADJUSTMENT_LOGIC' 'IMPUTED_SERVICE_KEY']\n"
     ]
    }
   ],
   "source": [
    "print(data.head())\n",
    "print(data.columns.values)"
   ]
  },
  {
   "cell_type": "code",
   "execution_count": 9,
   "metadata": {},
   "outputs": [
    {
     "name": "stdout",
     "output_type": "stream",
     "text": [
      "Top 10 CBT Codes by Frequency: \n",
      "\n",
      "99213    684792\n",
      "99214    630164\n",
      "97110    407111\n",
      "36415    393425\n",
      "97140    279690\n",
      "80053    220623\n",
      "85025    213677\n",
      "98941    209352\n",
      "G0463    172619\n",
      "90834    167529\n",
      "80061    143244\n",
      "88305    116886\n",
      "90837    115223\n",
      "99203    106954\n",
      "97112    106687\n",
      "84443    102568\n",
      "90471    101702\n",
      "97530    100081\n",
      "71046     92637\n",
      "99396     87766\n",
      "83036     86500\n",
      "99212     86050\n",
      "77067     81167\n",
      "99232     77523\n",
      "92014     77375\n",
      "Name: PROC_CODE, dtype: int64\n"
     ]
    }
   ],
   "source": [
    "print('Top 10 CBT Codes by Frequency: ')\n",
    "print('')\n",
    "print(data['PROC_CODE'].value_counts().head(25)) #LOOKS AT MOST COMMON CBT CODES"
   ]
  },
  {
   "cell_type": "code",
   "execution_count": 10,
   "metadata": {},
   "outputs": [],
   "source": [
    "import matplotlib.pyplot as plt \n",
    "import seaborn as sns"
   ]
  },
  {
   "cell_type": "markdown",
   "metadata": {},
   "source": [
    "# Summarizing some of the MRI CPT Codes"
   ]
  },
  {
   "cell_type": "code",
   "execution_count": 11,
   "metadata": {},
   "outputs": [
    {
     "name": "stdout",
     "output_type": "stream",
     "text": [
      "77067\n",
      "Number of rows: 81167\n",
      "Min Paid Amount: -941.81\n",
      "Max Paid Amount: 4363.65\n",
      "Mean Paid Amount: 215.7361863811608\n",
      "Range: 5305.459999999999\n",
      "Count by County: \n",
      "\n",
      "11     21115\n",
      "15     17793\n",
      "999     7834\n",
      "13      7506\n",
      "17      5591\n",
      "9       4643\n",
      "5       4459\n",
      "1       4246\n",
      "3       3420\n",
      "19      2460\n",
      "7       2100\n",
      "Name: MEMBER_COUNTY, dtype: int64\n",
      "\n",
      "\n"
     ]
    }
   ],
   "source": [
    "#print(data.columns.values)\n",
    "#print(sum(data['PROC_CODE']=='73510'))\n",
    "\n",
    "MRI_CODES=['77067']\n",
    "for code in MRI_CODES:\n",
    "    MRI_DATA=(data[data['PROC_CODE'] == str(code)])\n",
    "    print(str(code))\n",
    "    print('Number of rows: ' + str(len(MRI_DATA['SEX'])))\n",
    "    print('Min Paid Amount: ' + str(min(MRI_DATA['AMT_PAID'])))\n",
    "    print('Max Paid Amount: ' + str(max(MRI_DATA['AMT_PAID'])))\n",
    "    print('Mean Paid Amount: ' + str(np.mean(MRI_DATA['AMT_PAID'])))\n",
    "    print('Range: ' + str(max(MRI_DATA['AMT_PAID'])-min(MRI_DATA['AMT_PAID'])))\n",
    "    print('Count by County: \\n\\n' + str(MRI_DATA['MEMBER_COUNTY'].value_counts()))\n",
    "    print('')\n",
    "    print('')"
   ]
  },
  {
   "cell_type": "markdown",
   "metadata": {},
   "source": [
    "# POPULTATION BY COUNTY IN NH\n",
    "Rank\tCounty\tPopulation\n",
    "1\tHillsborough County\t406,371\n",
    "2\tRockingham County\t302,479\n",
    "3\tMerrimack County\t147,958\n",
    "4\tStrafford County\t126,552\n",
    "5\tGrafton County\t89,280\n",
    "6\tCheshire County\t76,109\n",
    "7\tBelknap County\t60,383\n",
    "8\tCarroll County\t47,524\n",
    "9\tSullivan County\t43,073\n",
    "10\tCoos County\t32,119\n",
    "\n",
    "1...Belknap\n",
    "3...Carroll\n",
    "5...Cheshire\n",
    "7 ...Coos\n",
    "9...Grafton\n",
    "11...Hillsborough\n",
    "13...Merrimack\n",
    "15...Rockingham\n",
    "17...Strafford\n",
    "19...Sullivan\n",
    "999...Other (not New Hampshire)"
   ]
  },
  {
   "cell_type": "code",
   "execution_count": 16,
   "metadata": {},
   "outputs": [],
   "source": [
    "#Rel_Columns=(MRI_JOINT[['COVERAGE_CLASS','FROM_YEAR' ,'SERVICES_KEY','DIS_STAT', 'POS' ,'AGE' ,'SEX' ,'MEMBER_COUNTY', 'MEMBER_STATE','PRODUCT_TYPE', 'LOB' ,'INSURANCE_TYPE' ,'PROC_CODE' ,'CPT_MOD1','CPT_MOD2','REV_CODE','UB_BILL_TYPE', 'ICD_DIAG_01_PRIMARY','ICD_DIAG_02','SERV_PROV_CW_KEY','BILL_PROV_CW_KEY' ,'QTY' ,'AMT_BILLED', 'AMT_PAID','AMT_DEDUCT','AMT_COINS','AMT_COPAY' ,'AMT_PREPAID', 'INPATIENT_FLAG', 'MR_LINE_CASE_KEY' ,'CLAIM_STATUS_ORIG' ,'CLAIM_ADJUSTMENT_LOGIC' ,'IMPUTED_SERVICE_KEY'\n",
    "#]])\n"
   ]
  },
  {
   "cell_type": "code",
   "execution_count": 14,
   "metadata": {},
   "outputs": [
    {
     "data": {
      "image/png": "[encoded data removed]",
      "text/plain": [
       "<Figure size 432x288 with 1 Axes>"
      ]
     },
     "metadata": {
      "needs_background": "light"
     },
     "output_type": "display_data"
    }
   ],
   "source": [
    "MRI_DATAX=(data[data['PROC_CODE'] == '77067'])\n",
    "plt.hist(MRI_DATAX['AMT_PAID'], bins = 20)\n",
    "plt.show()"
   ]
  },
  {
   "cell_type": "code",
   "execution_count": null,
   "metadata": {},
   "outputs": [],
   "source": []
  },
  {
   "cell_type": "code",
   "execution_count": null,
   "metadata": {},
   "outputs": [],
   "source": []
  },
  {
   "cell_type": "code",
   "execution_count": null,
   "metadata": {},
   "outputs": [],
   "source": []
  },
  {
   "cell_type": "code",
   "execution_count": null,
   "metadata": {},
   "outputs": [],
   "source": []
  },
  {
   "cell_type": "code",
   "execution_count": null,
   "metadata": {},
   "outputs": [],
   "source": []
  },
  {
   "cell_type": "code",
   "execution_count": null,
   "metadata": {},
   "outputs": [],
   "source": []
  },
  {
   "cell_type": "code",
   "execution_count": null,
   "metadata": {},
   "outputs": [],
   "source": []
  },
  {
   "cell_type": "code",
   "execution_count": null,
   "metadata": {},
   "outputs": [],
   "source": []
  },
  {
   "cell_type": "code",
   "execution_count": null,
   "metadata": {},
   "outputs": [],
   "source": []
  }
 ],
 "metadata": {
  "kernelspec": {
   "display_name": "Python 3",
   "language": "python",
   "name": "python3"
  },
  "language_info": {
   "codemirror_mode": {
    "name": "ipython",
    "version": 3
   },
   "file_extension": ".py",
   "mimetype": "text/x-python",
   "name": "python",
   "nbconvert_exporter": "python",
   "pygments_lexer": "ipython3",
   "version": "3.7.1"
  }
 },
 "nbformat": 4,
 "nbformat_minor": 2
}
